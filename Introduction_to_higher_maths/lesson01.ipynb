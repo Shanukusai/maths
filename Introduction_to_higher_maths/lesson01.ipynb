{
 "cells": [
  {
   "cell_type": "markdown",
   "metadata": {},
   "source": [
    "# Задания к видеоуроку “Элементарная алгебра”"
   ]
  },
  {
   "cell_type": "markdown",
   "metadata": {},
   "source": [
    "#### 1. Задание (на листочке) - Вычислите:\n",
    "\n",
    "$$\n",
    "7 *\n",
    "\\begin{bmatrix}\n",
    "5 & 10 \\\\\n",
    "7 & 12 \\\\\n",
    "11.3 & 5 \\\\\n",
    "25 & 30 \\\\\n",
    "\\end{bmatrix}\n",
    "+ \n",
    "2 *\n",
    "\\begin{bmatrix}\n",
    "5 & 10 \\\\\n",
    "7 & 12 \\\\\n",
    "11.3 & 5 \\\\\n",
    "25 & 30 \\\\\n",
    "\\end{bmatrix}\n",
    "$$"
   ]
  },
  {
   "cell_type": "markdown",
   "metadata": {},
   "source": [
    "#### Решение:\n",
    "$$\n",
    "7 *\n",
    "\\begin{bmatrix}\n",
    "5 & 10 \\\\\n",
    "7 & 12 \\\\\n",
    "11.3 & 5 \\\\\n",
    "25 & 30 \\\\\n",
    "\\end{bmatrix}\n",
    "+ \n",
    "2 *\n",
    "\\begin{bmatrix}\n",
    "5 & 10 \\\\\n",
    "7 & 12 \\\\\n",
    "11.3 & 5 \\\\\n",
    "25 & 30 \\\\\n",
    "\\end{bmatrix}\n",
    "=\n",
    "\\begin{bmatrix}\n",
    "35 & 70 \\\\\n",
    "49 & 84 \\\\\n",
    "79.1 & 35 \\\\\n",
    "175 & 210 \\\\\n",
    "\\end{bmatrix}\n",
    "+ \n",
    "\\begin{bmatrix}\n",
    "10 & 20 \\\\\n",
    "14 & 24 \\\\\n",
    "22.6 & 10 \\\\\n",
    "50 & 60 \\\\\n",
    "\\end{bmatrix}\n",
    "=\n",
    "\\begin{bmatrix}\n",
    "45 & 90 \\\\\n",
    "63 & 108 \\\\\n",
    "101.7 & 45 \\\\\n",
    "225 & 270 \\\\\n",
    "\\end{bmatrix}\n",
    "$$"
   ]
  },
  {
   "cell_type": "markdown",
   "metadata": {},
   "source": [
    "#### 2.1. Задание (на листочке) -  Решите систему уравнений:\n",
    "\\begin{align}\n",
    "3x - 2y + 5z = 7 \\\\\n",
    "7x + 4y - 8z = 3 \\\\\n",
    "5x - 3y - 4z = -12 \\\\\n",
    "\\end{align}\n",
    "Линейная или нелинейная это система? \n",
    "\n",
    "А каждое уравнение по отдельности?"
   ]
  },
  {
   "cell_type": "markdown",
   "metadata": {},
   "source": [
    "#### Решение:\n",
    "\n",
    "Это линейная система и каждое уравниение в ней линейное.\n",
    "\n",
    "$$\n",
    "\\begin{equation*}\n",
    "\\left.\\begin{aligned}\n",
    "3x - 2y + 5z = 7 \\\\\n",
    "7x + 4y - 8z = 3 \\\\\n",
    "5x - 3y - 4z = -12\n",
    "\\end{aligned} \\right\\} \\Rightarrow\n",
    "\\left.\\begin{aligned}\n",
    "x = \\frac{2y - 5z + 7}{3} \\\\\n",
    "7x + 4y - 8z = 3 \\\\\n",
    "5x - 3y - 4z = -12\n",
    "\\end{aligned} \\right\\} \\Rightarrow\n",
    "\\left.\\begin{aligned}\n",
    "x = \\frac{2y - 5z + 7}{3} \\\\\n",
    "\\frac{14y - 35z + 49}{3} + 4y - 8z = 3 \\\\\n",
    "\\frac{10y - 25z + 35}{3} - 3y - 4z = -12\n",
    "\\end{aligned} \\right\\} \\Rightarrow\n",
    "\\end{equation*}\n",
    "$$\n",
    "\n",
    "$$\n",
    "\\begin{equation*}\n",
    "\\left.\\begin{aligned}\n",
    "x = \\frac{2y - 5z + 7}{3} \\\\\n",
    "14y - 35z + 49 + 12y - 24z = 9 \\\\\n",
    "10y - 25z + 35 – 9y - 12z = -36\n",
    "\\end{aligned} \\right\\} \\Rightarrow\n",
    "\\left.\\begin{aligned}\n",
    "x = \\frac{2y - 5z + 7}{3} \\\\\n",
    "26y - 59z = -40 \\\\\n",
    "y - 37z = –71\n",
    "\\end{aligned} \\right\\} \\Rightarrow\n",
    "\\left.\\begin{aligned}\n",
    "x = \\frac{2y - 5z + 7}{3} \\\\\n",
    "26y - 59z = -40 \\\\\n",
    "y = -71 + 37z\n",
    "\\end{aligned} \\right\\} \\Rightarrow\n",
    "\\end{equation*}\n",
    "$$\n",
    "\n",
    "$$\n",
    "\\begin{equation*}\n",
    "\\left.\\begin{aligned}\n",
    "x = \\frac{2y - 5z + 7}{3} \\\\\n",
    "26 * (-71 + 37z) - 59z = -40 \\\\\n",
    "y = -71 + 37z\n",
    "\\end{aligned} \\right\\} \\Rightarrow\n",
    "\\left.\\begin{aligned}\n",
    "x = \\frac{2y - 5z + 7}{3} \\\\\n",
    "-1846 + 962z - 59z = -40 \\\\\n",
    "y = -71 + 37z\n",
    "\\end{aligned} \\right\\} \\Rightarrow\n",
    "\\left.\\begin{aligned}\n",
    "x = \\frac{2y - 5z + 7}{3} \\\\\n",
    "903z = 1806 \\\\\n",
    "y = –71 + 37z\n",
    "\\end{aligned} \\right\\} \\Rightarrow\n",
    "\\end{equation*}\n",
    "$$\n",
    "\n",
    "$$\n",
    "\\begin{equation*}\n",
    "\\left.\\begin{aligned}\n",
    "x = \\frac{2y - 5z + 7}{3} \\\\\n",
    "z = 2 \\\\\n",
    "y = -71 + 37z\n",
    "\\end{aligned} \\right\\} \\Rightarrow\n",
    "\\left.\\begin{aligned}\n",
    "x = \\frac{2y - 5z + 7}{3} \\\\\n",
    "z = 2 \\\\\n",
    "y = 3\n",
    "\\end{aligned} \\right\\} \\Rightarrow\n",
    "\\left.\\begin{aligned}\n",
    "x = \\frac{2 * 3 - 5 * 2 + 7}{3} \\\\\n",
    "z = 2 \\\\\n",
    "y = 3\n",
    "\\end{aligned} \\right\\} \\Rightarrow\n",
    "\\end{equation*}\n",
    "$$\n",
    "\n",
    "----\n",
    "\n",
    "\\begin{align}\n",
    "x = 1 \\\\\n",
    "z = 2 \\\\\n",
    "y = 3 \\\\\n",
    "\\end{align}"
   ]
  },
  {
   "cell_type": "markdown",
   "metadata": {},
   "source": [
    "#### 2.2. Задание (на листочке) - Решите систему уравнений:\n",
    "\n",
    "\\begin{aligned}\n",
    "x^2 + y*x - 9 = 0 \\\\\n",
    "x - \\frac{y}{5} = 0\n",
    "\\end{aligned}\n",
    "\n",
    "Линейная или нелинейная это система? \n",
    "\n",
    "А каждое уравнение по отдельности?"
   ]
  },
  {
   "cell_type": "markdown",
   "metadata": {},
   "source": [
    "#### Решение: \n",
    "Это нелинейная система. Первое уравнение нелинейное (второго порядка), второе уравниение линейное (первого порядка).\n",
    "\n",
    "$$\n",
    "\\begin{equation*}\n",
    "\\left.\\begin{aligned}\n",
    "x^2 + y*x - 9 = 0 \\\\\n",
    "x - \\frac{y}{5} = 0\n",
    "\\end{aligned} \\right\\} \\Rightarrow\n",
    "\\left.\\begin{aligned}\n",
    "x^2 + y*x - 9 = 0 \\\\\n",
    "y = 5x\n",
    "\\end{aligned} \\right\\} \\Rightarrow\n",
    "\\left.\\begin{aligned}\n",
    "x^2 + 5x^2 - 9 = 0 \\\\\n",
    "y = 5x\n",
    "\\end{aligned} \\right\\} \\Rightarrow\n",
    "\\left.\\begin{aligned}\n",
    "6x^2 = 9 \\\\\n",
    "y = 5x\n",
    "\\end{aligned} \\right\\} \\Rightarrow\n",
    "\\left.\\begin{aligned}\n",
    "x = \\sqrt\\frac{3}{2} \\\\\n",
    "y = 5x\n",
    "\\end{aligned} \\right\\} \\Rightarrow\n",
    "\\left.\\begin{aligned}\n",
    "x = \\sqrt\\frac{3}{2} \\\\\n",
    "y = 5\\sqrt\\frac{3}{2}\n",
    "\\end{aligned} \\right\\}\n",
    "\\end{equation*}\n",
    "$$"
   ]
  },
  {
   "cell_type": "markdown",
   "metadata": {},
   "source": [
    "#### 3. Задание (на листочке) - Решите задачу:\n",
    "Площадь пола прямоугольной комнаты равна 48 м2,а его периметр равен 28 м. Найдите длину и ширину комнаты."
   ]
  },
  {
   "cell_type": "markdown",
   "metadata": {},
   "source": [
    "#### Решение:\n",
    "\n",
    "$$\n",
    "\\begin{equation*}\n",
    "\\left.\\begin{aligned}\n",
    "x*y = 48 \\\\\n",
    "2*(x + y) = 28\n",
    "\\end{aligned} \\right\\} \\Rightarrow\n",
    "\\left.\\begin{aligned}\n",
    "x*y = 48 \\\\\n",
    "x = 14 - y\n",
    "\\end{aligned} \\right\\} \\Rightarrow\n",
    "\\left.\\begin{aligned}\n",
    "- y^2 + 14y - 48 = 0 \\\\\n",
    "x = 14 - y\n",
    "\\end{aligned} \\right\\} \\Rightarrow\n",
    "\\begin{aligned}\n",
    "y_{1,2} = \\frac{-14 \\pm \\sqrt{14^2 - 4*1*48}}{2*-1} = \\frac{-14 \\pm 2}{-2} = 7 \\pm 1\n",
    "\\end{aligned} \\Rightarrow\n",
    "\\begin{aligned} \n",
    "y_1 = 6 \\\\\n",
    "y_2 = 8\n",
    "\\end{aligned}\n",
    "\\end{equation*}\n",
    "$$\n",
    "\n",
    "----\n",
    "\n",
    "\\begin{equation*}\n",
    "\\begin{aligned} \n",
    "x = 6 \\\\\n",
    "y = 8\n",
    "\\end{aligned} \\qquad или \\qquad\n",
    "\\begin{aligned} \n",
    "x = 8 \\\\\n",
    "y = 6\n",
    "\\end{aligned}\n",
    "\\end{equation*}"
   ]
  },
  {
   "cell_type": "markdown",
   "metadata": {},
   "source": [
    "#### 4. Задание (в программе):\n",
    "Постройте на одном графике две кривые y(x) для функции двух переменной y(k,x)=cos(k∙x), взяв для одной кривой значение k=1, а для другой – любое другое k, не равное 1."
   ]
  },
  {
   "cell_type": "code",
   "execution_count": 9,
   "metadata": {},
   "outputs": [],
   "source": [
    "import numpy as np\n",
    "import matplotlib.pyplot as plt\n",
    "%matplotlib inline"
   ]
  },
  {
   "cell_type": "code",
   "execution_count": 12,
   "metadata": {},
   "outputs": [
    {
     "data": {
      "text/plain": [
       "<matplotlib.legend.Legend at 0x2608c6f2ec8>"
      ]
     },
     "execution_count": 12,
     "metadata": {},
     "output_type": "execute_result"
    },
    {
     "data": {
      "image/png": "[encoded data removed]",
      "text/plain": [
       "<Figure size 432x288 with 1 Axes>"
      ]
     },
     "metadata": {
      "needs_background": "light"
     },
     "output_type": "display_data"
    }
   ],
   "source": [
    "x = np.linspace(-15, 15, 100)\n",
    "k = 1\n",
    "y = np.cos(k * x)\n",
    "k1 = 0.5\n",
    "y1 = np.cos(k1 * x)\n",
    "plt.plot(x, y, label=f'y = cos(x)')\n",
    "plt.plot(x, y1, label=f'y = cos(2x)')\n",
    "plt.legend(loc=1)"
   ]
  }
 ],
 "metadata": {
  "kernelspec": {
   "display_name": "Python 3",
   "language": "python",
   "name": "python3"
  },
  "language_info": {
   "codemirror_mode": {
    "name": "ipython",
    "version": 3
   },
   "file_extension": ".py",
   "mimetype": "text/x-python",
   "name": "python",
   "nbconvert_exporter": "python",
   "pygments_lexer": "ipython3",
   "version": "3.7.6"
  }
 },
 "nbformat": 4,
 "nbformat_minor": 4
}
