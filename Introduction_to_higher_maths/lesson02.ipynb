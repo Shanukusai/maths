{
 "cells": [
  {
   "cell_type": "markdown",
   "metadata": {},
   "source": [
    "#### 1. Задание \n",
    "Напишите уравнение параболы, проходящей через три точки (x,y):\n",
    "\n",
    "(1,2), (3,10), (5,1)"
   ]
  },
  {
   "cell_type": "markdown",
   "metadata": {},
   "source": [
    "#### Решение:\n",
    "$$ y = a*x^2 + b*x + c $$\n",
    "\n",
    "\n",
    "\\begin{equation*}\n",
    "\\left.\\begin{aligned}\n",
    "2 = a + b + c \\\\\n",
    "10 = 9a + 3b + c \\\\\n",
    "1 = 25a + 5b + c\n",
    "\\end{aligned} \\right\\} \\Rightarrow\n",
    "\\left.\\begin{aligned}\n",
    "c = 2 - a - b \\\\\n",
    "10 = 9a + 3b + 2 - a - b \\\\\n",
    "1 = 25a + 5b + c\n",
    "\\end{aligned} \\right\\} \\Rightarrow\n",
    "\\left.\\begin{aligned}\n",
    "c = 2 - a - b \\\\\n",
    "b = 4 - 4a \\\\\n",
    "a = -\\frac{17}{8}\n",
    "\\end{aligned} \\right\\} \\Rightarrow\n",
    "\\left.\\begin{aligned}\n",
    "c = \\frac{69}{8} \\\\\n",
    "b = -\\frac{9}{2} \\\\\n",
    "a = -\\frac{17}{8}\n",
    "\\end{aligned} \\right\\}\n",
    "\\end{equation*}\n",
    "\n"
   ]
  },
  {
   "cell_type": "markdown",
   "metadata": {},
   "source": [
    "#### 2. Задание \n",
    "Известно, что свежий огурец на 99% состоит из воды. Месяц назад взвесили мешок со свежими огурцами. Получилось, что огурцов ровно 100 кг. Мешок убрали, а через месяц снова взвесили. Огурцы за это время усохли, и теперь вода составляет уже только 98% их веса. Сколько теперь (в кг) весят огурцы?"
   ]
  },
  {
   "cell_type": "markdown",
   "metadata": {},
   "source": [
    "#### Решение:\n",
    "##### До месяца:\n",
    "99 кг воды и 1 кг не воды\n",
    "##### После месяца:\n",
    "х = 1 + 0,98x\n",
    "\n",
    "0.02x = 1\n",
    "\n",
    "x = 50"
   ]
  },
  {
   "cell_type": "markdown",
   "metadata": {},
   "source": [
    "#### 3. Задание. \n",
    "Определение логарифма. Решить уравнения:\n",
    "$$ 2^x = 256 $$\n",
    "$$ 2^x = 300 $$\n",
    "$$ \\log_{8}2^{8x-4}=4 $$\n",
    "$$ 3^{\\log_{9}5x-5}=5 $$\n",
    "$$ x^{\\log_{3}x+1}=9 $$"
   ]
  },
  {
   "cell_type": "markdown",
   "metadata": {},
   "source": [
    "#### Решение:\n",
    "\n",
    "$$ x = \\log_{2}256 = 8 $$\n",
    "\n",
    "$$ x = \\log_{2}300 $$\n",
    "\n",
    "$$ (8x-4)\\log_{8}2=4 \\quad \\Rightarrow \\quad (8x-4)\\frac{1}{3}=4 \\quad \\Rightarrow \\quad x=2$$\n",
    "\n",
    "$$ 3^{\\log_{9}5x-5}=5  \\quad \\Rightarrow \\quad 3^{\\frac{1}{2}\\log_{3}5x-5}=5 \\quad \\Rightarrow \\quad (5x-5)^\\frac{1}{2}=5 \\quad \\Rightarrow \\quad 5x-5 = 25 \\quad \\Rightarrow \\quad x = 6 $$\n",
    "\n",
    "$$ \\frac{x^{\\log_{3}x}}{x} = 9 \\quad \\Rightarrow \\quad x^\\frac{1}{\\log_{x}3} = 9x  \\quad \\Rightarrow \\quad x = 9x^{\\log_{x}3} \\quad \\Rightarrow \\quad x = 27 $$"
   ]
  },
  {
   "cell_type": "markdown",
   "metadata": {},
   "source": [
    "#### 4. Задание Свойства логарифмов. Вычислить:\n",
    "$$ \\log_{4}16 = 2 $$\n",
    "\n",
    "$$ \\log_{5}\\frac{1}{25} = -2 $$\n",
    "\n",
    "$$ \\log_{25}5 = 0.5 $$\n",
    "\n",
    "$$ \\log_{3}\\sqrt27 = \\frac{3}{2}\\log_{3}3 = 1\\frac{1}{2} $$\n",
    "\n",
    "$$ \\log_{2}12 - \\log_{2}3 = \\log_{2}\\frac{12}{3} = 2 $$\n",
    "\n",
    "$$ \\log_{6}12 + \\log_{6}3 = \\log_{6}36 = 2 $$\n",
    "\n",
    "$$ e^{\\ln 5} = 5 $$\n",
    "\n",
    "$$ \\frac{\\log_{2}225}{\\log_{2}15} = \\log_{15}225 = 2 $$\n",
    "\n",
    "$$ \\log_{4}32 + \\log_{0.1}10 = \\log_{2^2}2^5 + \\log_{10}10^{-1} = \\frac{5}{2} - 1 = 1\\frac{1}{2} $$\n",
    "\n",
    "$$ 9^{\\log_{3}\\sqrt5} = (3^{\\log_{3}\\sqrt5})^2 = 5 $$"
   ]
  }
 ],
 "metadata": {
  "kernelspec": {
   "display_name": "Python 3",
   "language": "python",
   "name": "python3"
  },
  "language_info": {
   "codemirror_mode": {
    "name": "ipython",
    "version": 3
   },
   "file_extension": ".py",
   "mimetype": "text/x-python",
   "name": "python",
   "nbconvert_exporter": "python",
   "pygments_lexer": "ipython3",
   "version": "3.7.6"
  }
 },
 "nbformat": 4,
 "nbformat_minor": 4
}
