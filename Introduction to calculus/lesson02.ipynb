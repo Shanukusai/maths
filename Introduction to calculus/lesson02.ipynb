{
 "cells": [
  {
   "cell_type": "markdown",
   "metadata": {},
   "source": [
    "__1.__ Представьте в виде __несократимой__ рациональной дроби:\n",
    "\n",
    "### $$а)\\,\\,\\, 0.(216);$$\n",
    "\n",
    "### $$б)\\,\\,\\, 1.0(01).$$"
   ]
  },
  {
   "cell_type": "markdown",
   "metadata": {},
   "source": [
    "#### Решение:\n",
    "##### a)\n",
    "$$ a = 0.(216) $$\n",
    "$$ 1000a = 216 + a $$\n",
    "$$ a = \\frac{8}{37} $$"
   ]
  },
  {
   "cell_type": "markdown",
   "metadata": {},
   "source": [
    "##### b)\n",
    "$$ a = 1.0(01) $$\n",
    "$$ 10a = 10 + 0.(01) $$\n",
    "$$ b = 0.(01) $$\n",
    "$$ 100b = 1 + 0.(01) $$\n",
    "$$ b = \\frac{1}{99} $$\n",
    "$$ 10a = 10 + \\frac{1}{99} $$\n",
    "$$ a = \\frac{991}{990} $$"
   ]
  },
  {
   "cell_type": "markdown",
   "metadata": {},
   "source": [
    "__2*.__ Пусть $x =\\frac{2}{21}$. Известно, что для некоторого натурального $k$ число $x$ записывается в $k$ - ичной системе счисления как $0.(13)_k = 0, 131313_k$. Найдите $k$."
   ]
  },
  {
   "cell_type": "markdown",
   "metadata": {},
   "source": [
    "$$ x = 0.(13)_k $$\n",
    "$$ k^2x = 13.(13)_k $$\n",
    "$$ k^2x = 13_k + 0.(13)_k $$\n",
    "$$ k^2x = 13_k + x $$\n",
    "$$ (k^2- 1)x = 13_k $$\n",
    "$$ x = \\frac{13_k}{(k^2- 1)} $$\n",
    "$$ \\frac{2}{21} = \\frac{k + 3}{(k^2- 1)} $$\n",
    "$$ 2k^2 - 2 = 21k + 63 $$\n",
    "$$ 2k^2 - 21k - 65 = 0 $$\n",
    "$$ k_{1,2} = \\frac{21 \\pm \\sqrt{(-21)^2 - 4*2*(-65)}}{2*2} $$\n",
    "\n",
    "---\n",
    "$$ k = 13 $$"
   ]
  },
  {
   "cell_type": "markdown",
   "metadata": {},
   "source": [
    "__3.__ Проверьте любым способ, является ли данные логические формулы тавтологией:\n",
    "\n",
    "### $$a)\\,\\,\\, (A \\vee B) \\rightarrow (B \\vee\\overline A)$$\n",
    "### $$б)\\,\\,\\, A \\rightarrow (A \\vee (\\overline B \\wedge A))$$"
   ]
  },
  {
   "cell_type": "markdown",
   "metadata": {},
   "source": [
    "#### a)\n",
    "<table border=\"3\">\n",
    "<thead>\n",
    "<tr><th>$A$</th><th>$B$</th><th>$A \\vee B$</th><th>$\\overline A$</th><th>$B \\vee\\overline A$</th><th>$(A \\vee B) \\rightarrow (B \\vee\\overline A)$</th></tr>\n",
    "</thead>\n",
    "<tbody>\n",
    "    <tr><td>$0$</td><td>$0$</td><td>$0$</td><td>$1$</td><td>$1$</td><td>$1$</td></tr>\n",
    "    <tr><td>$0$</td><td>$1$</td><td>$1$</td><td>$1$</td><td>$1$</td><td>$1$</td></tr>\n",
    "    <tr><td>$1$</td><td>$0$</td><td>$1$</td><td>$0$</td><td>$0$</td><td>$0$</td></tr>\n",
    "    <tr><td>$1$</td><td>$1$</td><td>$1$</td><td>$0$</td><td>$1$</td><td>$1$</td></tr>\n",
    "</tbody>\n",
    "</table>"
   ]
  },
  {
   "cell_type": "markdown",
   "metadata": {},
   "source": [
    "#### b)\n",
    "\n",
    "<table>\n",
    "<thead>\n",
    "<tr><th>$A$</th><th>$B$</th><th>$\\overline B$</th><th>$\\overline B \\wedge A$</th><th>$A \\vee (\\overline B \\wedge A)$</th><th>$A \\rightarrow (A \\vee (\\overline B \\wedge A))$</th></tr>\n",
    "</thead>\n",
    "<tbody>\n",
    "    <tr><td>$0$</td><td>$0$</td><td>$1$</td><td>$0$</td><td>$0$</td><td>$1$</td></tr>\n",
    "    <tr><td>$0$</td><td>$1$</td><td>$0$</td><td>$0$</td><td>$0$</td><td>$1$</td></tr>\n",
    "    <tr><td>$1$</td><td>$0$</td><td>$1$</td><td>$1$</td><td>$1$</td><td>$1$</td></tr>\n",
    "    <tr><td>$1$</td><td>$1$</td><td>$0$</td><td>$0$</td><td>$1$</td><td>$1$</td></tr>\n",
    "</tbody>\n",
    "</table>"
   ]
  },
  {
   "cell_type": "markdown",
   "metadata": {},
   "source": [
    "__4.__ Сформулируйте словесно высказывания:\n",
    "### $$a)\\,\\,\\, (\\overline A \\vee B) \\rightarrow \\overline C$$\n",
    "### $$б)\\,\\,\\, C \\rightarrow (A \\vee \\overline B)$$\n",
    "\n",
    "- $A:\\,\\,\\,$ сегодня светит солнце; \n",
    "- $B:\\,\\,\\,$ сегодня сыро; \n",
    "- $C:\\,\\,\\,$ я поеду на дачу. "
   ]
  },
  {
   "cell_type": "markdown",
   "metadata": {},
   "source": [
    "#### Решение:\n",
    "__a)__ Если сегодня не светит солнце или сегодня сыро, то я не поеду на дачу.\n",
    "\n",
    "__b)__ Если я поеду на дачу, то сегодня светит солнце или сегодня не сыро."
   ]
  },
  {
   "cell_type": "markdown",
   "metadata": {},
   "source": [
    "__5.__  Пользуясь правилом построения противоположного высказывания, запишите утверждения, противоположные следующим:\n",
    "\n",
    "a) На любом курсе каждого факультета есть студенты, сдающие все экзамены на «отлично».\n",
    "\n",
    "б) В любом самолете на рейсе Вашингтон-Москва присутствует хотя бы один сотрудник силовых органов, в каждой пуговице одежды которого вмонтирован микрофон."
   ]
  },
  {
   "cell_type": "markdown",
   "metadata": {},
   "source": [
    "#### Решение:\n",
    "__a)__ $\\forall$ курсе $\\forall$ факультета __есть__ студенты: (__сдающие__ $\\forall$ экзамены на «отлично») \n",
    "\n",
    "$\\exists$ курсе $\\exists$ факультета __есть__ студенты: (__не сдающие__ $\\exists$ экзамены на «отлично») \n",
    "\n",
    "На некоторых курсах нескольких факультетов есть студенты, не сдающие часть экзаменов на \"отлично\".\n",
    "\n",
    "__б)__ $\\forall$ самолете на рейсе Вашингтон-Москва __присутствует__ $\\exists$ сотрудник силовых органов, $\\forall$ пуговице одежды которого __вмонтирован__ микрофон.\n",
    "\n",
    "$\\exists$ самолете на рейсе Вашингтон-Москва __присутствует__ $\\forall$ сотрудник силовых органов, $\\exists$ пуговице одежды которого __не вмонтирован__ микрофон."
   ]
  },
  {
   "cell_type": "markdown",
   "metadata": {},
   "source": [
    "__6*.__ Прочитайте высказывания, установите их истинность и постройте отрицания:\n",
    "\n",
    "### $$a)\\,\\,\\, \\forall x\\in\\mathbb{R}\\,\\,\\,\\exists X\\in\\mathbb{R}:\\,\\,\\, X>x;$$\n",
    "### $$б)\\,\\,\\, \\forall y\\in\\Bigl[0; \\frac{\\pi}{2}\\Bigr]\\,\\,\\,\\exists \\varepsilon>0:\\,\\,\\, \\sin y<\\sin(y+\\varepsilon);$$\n",
    "### $$в)\\,\\,\\, \\forall y\\in\\Bigl[0; \\frac{\\pi}{2}\\Bigr)\\,\\,\\,\\exists \\varepsilon>0:\\,\\,\\, \\cos y>\\cos(y+\\varepsilon).$$"
   ]
  },
  {
   "cell_type": "markdown",
   "metadata": {},
   "source": [
    "Каждый элемент x принадлежит множеству $\\mathbb{R}$ существуют элементы X принадлежащие множеству $\\mathbb{R}$ где X > x"
   ]
  },
  {
   "cell_type": "code",
   "execution_count": null,
   "metadata": {},
   "outputs": [],
   "source": []
  }
 ],
 "metadata": {
  "kernelspec": {
   "display_name": "Python 3",
   "language": "python",
   "name": "python3"
  },
  "language_info": {
   "codemirror_mode": {
    "name": "ipython",
    "version": 3
   },
   "file_extension": ".py",
   "mimetype": "text/x-python",
   "name": "python",
   "nbconvert_exporter": "python",
   "pygments_lexer": "ipython3",
   "version": "3.7.6"
  }
 },
 "nbformat": 4,
 "nbformat_minor": 4
}
